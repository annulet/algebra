{
 "cells": [
  {
   "cell_type": "markdown",
   "metadata": {},
   "source": [
    "# Урок 2"
   ]
  },
  {
   "cell_type": "code",
   "execution_count": 1,
   "metadata": {},
   "outputs": [],
   "source": [
    "import numpy as np\n",
    "from numpy.linalg import norm"
   ]
  },
  {
   "cell_type": "markdown",
   "metadata": {},
   "source": [
    "### 1. Найти скалярное произведение векторов $x, y \\in \\mathbb{R} :$"
   ]
  },
  {
   "cell_type": "markdown",
   "metadata": {},
   "source": [
    "a) $x=(0, -3, 6), y=(-4, 7, 9)$   \n",
    "б) $x=(7, -4, 0, 1), y=(-3, 1, 11, 2)$"
   ]
  },
  {
   "cell_type": "code",
   "execution_count": 2,
   "metadata": {},
   "outputs": [
    {
     "name": "stdout",
     "output_type": "stream",
     "text": [
      "Скалярное произведение x и y:\n",
      "33\n"
     ]
    }
   ],
   "source": [
    "x = np.array([0, -3, 6])\n",
    "y = np.array([-4, 7, 9])\n",
    "print(f'Скалярное произведение x и y:\\n{np.dot(x, y)}')"
   ]
  },
  {
   "cell_type": "code",
   "execution_count": 3,
   "metadata": {},
   "outputs": [
    {
     "name": "stdout",
     "output_type": "stream",
     "text": [
      "Скалярное произведение x и y:\n",
      "-23\n"
     ]
    }
   ],
   "source": [
    "x = np.array([7, -4, 0, 1])\n",
    "y = np.array([-3, 1, 11, 2])\n",
    "print(f'Скалярное произведение x и y:\\n{np.dot(x, y)}')"
   ]
  },
  {
   "cell_type": "markdown",
   "metadata": {},
   "source": [
    "### 2. Найти нормы векторов  (4, 2, 4)  и  (12, 3, 4)  и угол между ними."
   ]
  },
  {
   "cell_type": "code",
   "execution_count": 4,
   "metadata": {},
   "outputs": [
    {
     "name": "stdout",
     "output_type": "stream",
     "text": [
      "l1a норма вектора a:\n",
      "10.0\n",
      "l2a норма вектора a:\n",
      "6.0\n",
      "l1b норма вектора b:\n",
      "19.0\n",
      "l2b норма вектора b:\n",
      "13.0\n",
      "Косинус угла между a и b: 0.90\n",
      "Угол между a и b: 0.46\n"
     ]
    }
   ],
   "source": [
    "a = np.array([4, 2, 4])\n",
    "b = np.array([12, 3, 4])\n",
    "\n",
    "print(f'l1a норма вектора a:\\n{norm(a, ord=1)}')\n",
    "print(f'l2a норма вектора a:\\n{norm(a, ord=2)}')\n",
    "\n",
    "print(f'l1b норма вектора b:\\n{norm(b, ord=1)}')\n",
    "print(f'l2b норма вектора b:\\n{norm(b, ord=2)}')\n",
    "\n",
    "cos_phi = np.dot(a, b) / norm(a) / norm(b)\n",
    "print(f'Косинус угла между a и b: {cos_phi:.2f}')\n",
    "print(f'Угол между a и b: {np.arccos(cos_phi):.2f}')"
   ]
  },
  {
   "cell_type": "markdown",
   "metadata": {},
   "source": [
    "### 3. Будет ли линейное пространство евклидовым, если за скалярное произведение принять:\n",
    "а) произведение длин векторов;   \n",
    "б) утроенное обычное скалярное произведение векторов?"
   ]
  },
  {
   "cell_type": "markdown",
   "metadata": {},
   "source": [
    "Для евклидова пространства справедливы аксиомы:    \n",
    "1) $(x, y)=(y, x)$    \n",
    "2) $(\\lambda x, y)=\\lambda(x, y)$    \n",
    "3) $\\left(x_{1}+x_{2}, y\\right)=\\left(x_{1}, y\\right)+\\left(x_{2}, y\\right)$    \n",
    "4) $(x, x) \\geq 0,$ причем $(x, x)=0 \\Leftrightarrow x=0$"
   ]
  },
  {
   "cell_type": "markdown",
   "metadata": {},
   "source": [
    "Проверим справедливость аксиом для произведения длин векторов."
   ]
  },
  {
   "cell_type": "markdown",
   "metadata": {},
   "source": [
    "$\\sqrt{x_{i}^{2}+x_{j}^{2}+x_{k}^{2}...} \\cdot \\sqrt{y_{i}^{2}+y_{j}^{2}+y_{k}^{2}...} = \\sqrt{y_{i}^{2}+y_{j}^{2}+y_{k}^{2}...} \\cdot \\sqrt{x_{i}^{2}+x_{j}^{2}+x_{k}^{2}...} \n",
    "$   \n",
    "Равенство справедливо"
   ]
  },
  {
   "cell_type": "markdown",
   "metadata": {},
   "source": [
    "$\\left(\\lambda \\cdot \\sqrt{x_{i}^{2}+x_{j}^{2}+x_{k}^{2}...}\\right) \\cdot \\sqrt{y_{i}^{2}+y_{j}^{2}+y_{k}^{2}...} = \\lambda \\cdot \\left(\\sqrt{y_{i}^{2}+y_{j}^{2}+y_{k}^{2}...} \\cdot \\sqrt{x_{i}^{2}+x_{j}^{2}+x_{k}^{2}...}\\right)\n",
    "$   \n",
    "Равенство справедливо"
   ]
  },
  {
   "cell_type": "markdown",
   "metadata": {},
   "source": [
    "$\\sqrt{(x_{i1}+x_{i2})^{2}+(x_{j1}+x_{j2})^{2}+(x_{k1}+x_{k2})^{2}...} \\cdot \\sqrt{y_{i}^{2}+y_{j}^{2}+y_{k}^{2}...} = \n",
    "\\sqrt{x_{i1}^{2}+x_{j1}^{2}+x_{k1}^{2}...}\\sqrt{y_{i}^{2}+y_{j}^{2}+y_{k}^{2}...} + \\sqrt{x_{i2}^{2}+x_{j2}^{2}+x_{k2}^{2}...}\\sqrt{y_{i}^{2}+y_{j}^{2}+y_{k}^{2}...}\n",
    "$   \n",
    "Равенство несправедливо"
   ]
  },
  {
   "cell_type": "markdown",
   "metadata": {},
   "source": [
    "Ответ:  если за скалярное произведение принять произведение длин векторов, линейное пространство не будет евклидовым."
   ]
  },
  {
   "cell_type": "markdown",
   "metadata": {},
   "source": [
    "Проверим справедливость аксиом для утроенного скалярного произведения векторов."
   ]
  },
  {
   "cell_type": "markdown",
   "metadata": {},
   "source": [
    "$3(x, y) = 3x_{1} y_{1}+3x_{2} y_{2}+\\cdots+3x_{n} y_{n}=3(y, x)$ - верно"
   ]
  },
  {
   "cell_type": "markdown",
   "metadata": {},
   "source": [
    "$3(𝜆𝑥, 𝑦) = (3𝜆𝑥, 𝑦) = 3𝜆(𝑥, 𝑦)$ - верно"
   ]
  },
  {
   "cell_type": "markdown",
   "metadata": {},
   "source": [
    "$3(𝑥_1+𝑥_2, 𝑦)=(3𝑥_1, 𝑦)+(3𝑥_2, 𝑦)$ - верно"
   ]
  },
  {
   "cell_type": "markdown",
   "metadata": {},
   "source": [
    "$3(𝑥,𝑥)≥0$ - верно"
   ]
  },
  {
   "cell_type": "markdown",
   "metadata": {},
   "source": [
    "Ответ:  линейное пространство будет евклидовым, если за скалярное произведение принять утроенное скалярное произведение."
   ]
  },
  {
   "cell_type": "markdown",
   "metadata": {},
   "source": [
    "### 4. Какие из нижеперечисленных векторов образуют ортонормированный базис в линейном пространстве $\\mathbb{R}^{3} :$"
   ]
  },
  {
   "cell_type": "markdown",
   "metadata": {},
   "source": [
    "a) $(1, 0, 0), (0, 0, 1)$   \n",
    "б) $(1 / \\sqrt{2}, -1 / \\sqrt{2}, 0), (1 / \\sqrt{2}, 1 / \\sqrt{2}, 0),(0, 0, 1) ;$   \n",
    "B) $(1 / 2, -1 / 2, 0), (0, 1 / 2, 1 / 2), (0, 0, 1) ;$   \n",
    "r) $(1, 0, 0), (0, 1, 0), (0, 0, 1) ?$"
   ]
  },
  {
   "cell_type": "markdown",
   "metadata": {},
   "source": [
    "В конечномерном евклидовом пространстве базис $\\left\\{e_{1}, e_{2}, \\dots, e_{n}\\right\\}$  называется ортонормированным, если $\\left(e_{i}, e_{j}\\right) = 0$  $\\forall i \\neq j$ и  $\\left(e_{i}, e_{i}\\right) = 1$  $\\forall i \\in[1, n]$."
   ]
  },
  {
   "cell_type": "code",
   "execution_count": 5,
   "metadata": {},
   "outputs": [],
   "source": [
    "def orthonormal_basis(a, b, c):\n",
    "    if np.dot(a, b) == 0 and np.dot(b, c) == 0 and np.dot(c, a) == 0 and np.dot(a, a) == 1 and np.dot(b, b) == 1 and np.dot(c, c) ==1:\n",
    "        return f'Векторы {a}, {b}, {c} образуют ортонормированный базис'\n",
    "    else:\n",
    "        return f'Векторы {a}, {b}, {c} не образуют ортонормированный базис'"
   ]
  },
  {
   "cell_type": "code",
   "execution_count": 6,
   "metadata": {},
   "outputs": [],
   "source": [
    "a = np.array([1, 0, 0])\n",
    "b = np.array([0, 0, 1])\n",
    "# 2 вектора не образуют ортонормированный базис трехмерного пространства."
   ]
  },
  {
   "cell_type": "code",
   "execution_count": 7,
   "metadata": {},
   "outputs": [
    {
     "data": {
      "text/plain": [
       "'Векторы [0.70710678], [-0.70710678], [0 0 1] не образуют ортонормированный базис'"
      ]
     },
     "execution_count": 7,
     "metadata": {},
     "output_type": "execute_result"
    }
   ],
   "source": [
    "a = np.array([1 * 2 ** -0.5])\n",
    "b = np.array([-1 * 2 ** -0.5])\n",
    "c = np.array([0, 0, 1])\n",
    "orthonormal_basis(a, b, c)"
   ]
  },
  {
   "cell_type": "code",
   "execution_count": 8,
   "metadata": {},
   "outputs": [
    {
     "data": {
      "text/plain": [
       "'Векторы [ 0.5 -0.5  0. ], [0.  0.5 0.5], [0 0 1] не образуют ортонормированный базис'"
      ]
     },
     "execution_count": 8,
     "metadata": {},
     "output_type": "execute_result"
    }
   ],
   "source": [
    "a = np.array([1 / 2, -1 / 2, 0])\n",
    "b = np.array([0, 1 / 2, 1 / 2])\n",
    "c = np.array([0, 0, 1])\n",
    "orthonormal_basis(a, b, c)"
   ]
  },
  {
   "cell_type": "code",
   "execution_count": 9,
   "metadata": {},
   "outputs": [
    {
     "data": {
      "text/plain": [
       "'Векторы [1 0 0], [0 1 0], [0 0 1] образуют ортонормированный базис'"
      ]
     },
     "execution_count": 9,
     "metadata": {},
     "output_type": "execute_result"
    }
   ],
   "source": [
    "a = np.array([1, 0, 0])\n",
    "b = np.array([0, 1, 0])\n",
    "c = np.array([0, 0, 1])\n",
    "orthonormal_basis(a, b, c)"
   ]
  },
  {
   "cell_type": "markdown",
   "metadata": {},
   "source": [
    "# Урок 3"
   ]
  },
  {
   "cell_type": "code",
   "execution_count": 10,
   "metadata": {},
   "outputs": [],
   "source": [
    "import numpy as np"
   ]
  },
  {
   "cell_type": "markdown",
   "metadata": {},
   "source": [
    "### 1. Установить, какие произведения матриц  AB  и  BA  определены, и найти размерности полученных матриц:"
   ]
  },
  {
   "cell_type": "markdown",
   "metadata": {},
   "source": [
    "Чтобы умножить матрицу А на матрицу В необходимо, чтобы число столбцов матрицы  A  было равно числу строк матрицы  B."
   ]
  },
  {
   "cell_type": "code",
   "execution_count": 11,
   "metadata": {},
   "outputs": [],
   "source": [
    "def product(a, b):\n",
    "    if a.shape[1] == b.shape[0]:\n",
    "        return f'Произведение матриц А и В определены, размерность полученной матрицы {a.shape[0]}x{b.shape[1]}'\n",
    "    return f'Произведение матриц А и В не определены'"
   ]
  },
  {
   "cell_type": "markdown",
   "metadata": {},
   "source": [
    "а)  A  — матрица  4×2 ,  B  — матрица  4×2 ;"
   ]
  },
  {
   "cell_type": "code",
   "execution_count": 12,
   "metadata": {},
   "outputs": [
    {
     "data": {
      "text/plain": [
       "'Произведение матриц А и В не определены'"
      ]
     },
     "execution_count": 12,
     "metadata": {},
     "output_type": "execute_result"
    }
   ],
   "source": [
    "a = np.zeros((4, 2))\n",
    "b = np.zeros((4, 2))\n",
    "product(a, b)"
   ]
  },
  {
   "cell_type": "markdown",
   "metadata": {},
   "source": [
    "б)  A  — матрица  2×5 ,  B  — матрица  5×3 ;"
   ]
  },
  {
   "cell_type": "code",
   "execution_count": 13,
   "metadata": {},
   "outputs": [
    {
     "data": {
      "text/plain": [
       "'Произведение матриц А и В определены, размерность полученной матрицы 2x3'"
      ]
     },
     "execution_count": 13,
     "metadata": {},
     "output_type": "execute_result"
    }
   ],
   "source": [
    "a = np.zeros((2, 5))\n",
    "b = np.zeros((5, 3))\n",
    "product(a, b)"
   ]
  },
  {
   "cell_type": "markdown",
   "metadata": {},
   "source": [
    "в)  A  — матрица  8×3 ,  B  — матрица  3×8 ;"
   ]
  },
  {
   "cell_type": "code",
   "execution_count": 14,
   "metadata": {},
   "outputs": [
    {
     "data": {
      "text/plain": [
       "'Произведение матриц А и В определены, размерность полученной матрицы 8x8'"
      ]
     },
     "execution_count": 14,
     "metadata": {},
     "output_type": "execute_result"
    }
   ],
   "source": [
    "a = np.zeros((8, 3))\n",
    "b = np.zeros((3, 8))\n",
    "product(a, b)"
   ]
  },
  {
   "cell_type": "markdown",
   "metadata": {},
   "source": [
    "г)  A  — квадратная матрица  4×4 ,  B  — квадратная матрица  4×4 ."
   ]
  },
  {
   "cell_type": "code",
   "execution_count": 15,
   "metadata": {},
   "outputs": [
    {
     "data": {
      "text/plain": [
       "'Произведение матриц А и В определены, размерность полученной матрицы 4x4'"
      ]
     },
     "execution_count": 15,
     "metadata": {},
     "output_type": "execute_result"
    }
   ],
   "source": [
    "a = np.zeros((4, 4))\n",
    "b = np.zeros((4, 4))\n",
    "product(a, b)"
   ]
  },
  {
   "cell_type": "markdown",
   "metadata": {},
   "source": [
    "### 2. Найти сумму и произведение матриц"
   ]
  },
  {
   "cell_type": "markdown",
   "metadata": {},
   "source": [
    "$A=\\left(\\begin{array}{cc}{1} & {-2} \\\\ {3} & {0}\\end{array}\\right)$  и $ B=\\left(\\begin{array}{cc}{4} & {-1} \\\\ {0} & {5}\\end{array}\\right)$"
   ]
  },
  {
   "cell_type": "markdown",
   "metadata": {},
   "source": [
    "$A + B = \\left(\\begin{array}{cc}{1+4} & {-2-1} \\\\ {3+0} & {0+5}\\end{array}\\right)=\\left(\\begin{array}{cc}{5} & {-3} \\\\ {3} & {5}\\end{array}\\right)$"
   ]
  },
  {
   "cell_type": "markdown",
   "metadata": {},
   "source": [
    "$A \\cdot B = \\left(\\begin{array}{cc}{1\\cdot4-2\\cdot0} & {1\\cdot(-1)-2\\cdot5} \\\\ \n",
    "{3\\cdot4+0\\cdot0} & {3\\cdot(-1)+0\\cdot5}\\end{array}\\right)=\\left(\\begin{array}{cc}{4} & {-11} \\\\ {12} & {-3}\\end{array}\\right)$"
   ]
  },
  {
   "cell_type": "code",
   "execution_count": 16,
   "metadata": {},
   "outputs": [
    {
     "data": {
      "text/plain": [
       "array([[ 5, -3],\n",
       "       [ 3,  5]])"
      ]
     },
     "execution_count": 16,
     "metadata": {},
     "output_type": "execute_result"
    }
   ],
   "source": [
    "a = np.array([[1, -2], [3, 0]])\n",
    "b = np.array([[4, -1], [0, 5]])\n",
    "a + b"
   ]
  },
  {
   "cell_type": "code",
   "execution_count": 17,
   "metadata": {},
   "outputs": [
    {
     "data": {
      "text/plain": [
       "array([[  4, -11],\n",
       "       [ 12,  -3]])"
      ]
     },
     "execution_count": 17,
     "metadata": {},
     "output_type": "execute_result"
    }
   ],
   "source": [
    "np.dot(a, b)"
   ]
  },
  {
   "cell_type": "markdown",
   "metadata": {},
   "source": [
    "### 3. Из закономерностей сложения и умножения матриц на число можно сделать вывод, что матрицы одного размера образуют линейное пространство. Вычислить линейную комбинацию  3A−2B+4C  для матриц"
   ]
  },
  {
   "cell_type": "markdown",
   "metadata": {},
   "source": [
    "$A=\\left(\\begin{array}{cc}{1} & {7} \\\\ {3} & {-6}\\end{array}\\right), B=\\left(\\begin{array}{cc}{0} & {5} \\\\ {2} & {-1}\\end{array}\\right), C=\\left(\\begin{array}{cc}{2} & {-4} \\\\ {1} & {1}\\end{array}\\right)$"
   ]
  },
  {
   "cell_type": "markdown",
   "metadata": {},
   "source": [
    "$3A−2B+4C = 3\\left(\\begin{array}{cc}{1} & {7} \\\\ {3} & {-6}\\end{array}\\right)- 2\\left(\\begin{array}{cc}{0} & {5} \\\\ {2} & {-1}\\end{array}\\right) +4\\left(\\begin{array}{cc}{2} & {-4} \\\\ {1} & {1}\\end{array}\\right) =\n",
    "$"
   ]
  },
  {
   "cell_type": "markdown",
   "metadata": {},
   "source": [
    "$=\\left(\\begin{array}{cc}{3} & {21} \\\\ {9} & {-18}\\end{array}\\right)- \\left(\\begin{array}{cc}{0} & {10} \\\\ {4} & {-2}\\end{array}\\right) +\\left(\\begin{array}{cc}{8} & {-16} \\\\ {4} & {4}\\end{array}\\right) = \\left(\\begin{array}{cc}{11} & {-5} \\\\ {9} & {-15}\\end{array}\\right)$\n"
   ]
  },
  {
   "cell_type": "code",
   "execution_count": 18,
   "metadata": {},
   "outputs": [
    {
     "data": {
      "text/plain": [
       "array([[ 11,  -5],\n",
       "       [  9, -15]])"
      ]
     },
     "execution_count": 18,
     "metadata": {},
     "output_type": "execute_result"
    }
   ],
   "source": [
    "a = np.array([[1, 7], [3, -7]])\n",
    "b = np.array([[0, 5], [2, -1]])\n",
    "c = np.array([[2, -4], [1, 1]])\n",
    "3 * a - 2 * b + 4 * c"
   ]
  },
  {
   "cell_type": "markdown",
   "metadata": {},
   "source": [
    "### 4. Дана матрица  "
   ]
  },
  {
   "cell_type": "markdown",
   "metadata": {},
   "source": [
    "$A=\\left(\\begin{array}{cc}{4} & {1} \\\\ {5} & {-2} \\\\ {2} & {3}\\end{array}\\right)$"
   ]
  },
  {
   "cell_type": "markdown",
   "metadata": {},
   "source": [
    "Вычислить $A A^{T}$  и  $A^{T} A$"
   ]
  },
  {
   "cell_type": "markdown",
   "metadata": {},
   "source": [
    "$AA^T = \\left(\\begin{array}{cc}{4} & {1} \\\\ {5} & {-2} \\\\ {2} & {3}\\end{array}\\right) \\cdot \\left(\\begin{array}{cc}{4} & {5} & {2} \\\\ {1} & {-2} & {3}\\end{array}\\right)=\n",
    "$"
   ]
  },
  {
   "cell_type": "markdown",
   "metadata": {},
   "source": [
    "$=\\left(\\begin{array}{cc}{4\\cdot4+1\\cdot1} & {4\\cdot5 +1\\cdot(-2)} & {4\\cdot2+1\\cdot3} \\\\ {5\\cdot4 +2\\cdot1} & {5\\cdot5-2\\cdot(-2)} & {5\\cdot2-2\\cdot3} \\\\ {2\\cdot4+3\\cdot1} & {2\\cdot5+3\\cdot(-2)} & {2\\cdot2+3\\cdot3}\\end{array}\\right)=\n",
    "\\left(\\begin{array}{cc}{17} & {18} & {11} \\\\ {22} & {29} & {4} \\\\ {11} & {4} & {13}\\end{array}\\right)$"
   ]
  },
  {
   "cell_type": "code",
   "execution_count": 19,
   "metadata": {},
   "outputs": [
    {
     "data": {
      "text/plain": [
       "array([[17, 18, 11],\n",
       "       [18, 29,  4],\n",
       "       [11,  4, 13]])"
      ]
     },
     "execution_count": 19,
     "metadata": {},
     "output_type": "execute_result"
    }
   ],
   "source": [
    "a = np.array([[4, 1], [5, -2], [2, 3]])\n",
    "np.dot(a, a.T)"
   ]
  },
  {
   "cell_type": "markdown",
   "metadata": {},
   "source": [
    "$ A^{T}A=\\left(\\begin{array}{ccc}{4} & {5} & {2} \\\\ {1} & {-2} & {3}\\end{array}\\right) \\cdot\\left(\\begin{array}{cc}{4} & {1} \\\\ {5} & {-2} \\\\ {2} & {3}\\end{array}\\right) =$"
   ]
  },
  {
   "cell_type": "markdown",
   "metadata": {},
   "source": [
    "$=\\left(\\begin{array}{cc}{4\\cdot4+5\\cdot5+2\\cdot2} & {4\\cdot1 +5\\cdot(-2)+2\\cdot3}  \\\\ \n",
    "{1\\cdot4 -2\\cdot5 +3\\cdot2} &{1\\cdot1 -2\\cdot(-2) +3\\cdot3} \\end{array}\\right)=\\left(\\begin{array}{cc}{45} & {0}  \\\\ \n",
    "{0} &{14} \\end{array}\\right)\n",
    "$"
   ]
  },
  {
   "cell_type": "code",
   "execution_count": 20,
   "metadata": {},
   "outputs": [
    {
     "data": {
      "text/plain": [
       "array([[45,  0],\n",
       "       [ 0, 14]])"
      ]
     },
     "execution_count": 20,
     "metadata": {},
     "output_type": "execute_result"
    }
   ],
   "source": [
    "np.dot(a.T, a)"
   ]
  },
  {
   "cell_type": "code",
   "execution_count": null,
   "metadata": {},
   "outputs": [],
   "source": []
  }
 ],
 "metadata": {
  "kernelspec": {
   "display_name": "Python 3",
   "language": "python",
   "name": "python3"
  },
  "language_info": {
   "codemirror_mode": {
    "name": "ipython",
    "version": 3
   },
   "file_extension": ".py",
   "mimetype": "text/x-python",
   "name": "python",
   "nbconvert_exporter": "python",
   "pygments_lexer": "ipython3",
   "version": "3.7.1"
  }
 },
 "nbformat": 4,
 "nbformat_minor": 2
}
