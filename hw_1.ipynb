{
 "cells": [
  {
   "cell_type": "markdown",
   "metadata": {},
   "source": [
    "# 1. Исследовать на линейную зависимость:   \n"
   ]
  },
  {
   "cell_type": "markdown",
   "metadata": {},
   "source": [
    "$f_{1}(x)=e^{x}, f_{2}(x)=1, f_{3}(x)=x+1, f_{4}(x)=x-e^{x}$"
   ]
  },
  {
   "cell_type": "markdown",
   "metadata": {},
   "source": [
    "Очевидно, что:"
   ]
  },
  {
   "cell_type": "markdown",
   "metadata": {},
   "source": [
    "f3(x) = f1(x) + f2(x) + f4(x)"
   ]
  },
  {
   "cell_type": "markdown",
   "metadata": {},
   "source": [
    "$x + 1 = e^x + 1 + x - e^x$"
   ]
  },
  {
   "cell_type": "markdown",
   "metadata": {},
   "source": [
    "Поскольку для того, чтобы некоторое множество элементов линейного пространства было линейно зависимым, необходимо и достаточно, чтобы один из этих элементов являлся линейной комбинацией остальных, эти элементы линейно зависимы."
   ]
  },
  {
   "cell_type": "markdown",
   "metadata": {},
   "source": [
    "# 2. Исследовать на линейную зависимость:\n"
   ]
  },
  {
   "cell_type": "markdown",
   "metadata": {},
   "source": [
    "$f_{1}(x)=2, f_{2}(x)=x, f_{3}(x)=x^{2}, f_{4}(x)=(x+1)^{2}$"
   ]
  },
  {
   "cell_type": "markdown",
   "metadata": {},
   "source": [
    "Приравняем линейную комбинацию данных векторов к нулевому вектору:"
   ]
  },
  {
   "cell_type": "markdown",
   "metadata": {},
   "source": [
    "$\\alpha_1 \\cdot 2 + \\alpha_2 x + \\alpha_3 x^2 + \\alpha_4 (x^2 + 2x + 1) = 0$"
   ]
  },
  {
   "cell_type": "markdown",
   "metadata": {},
   "source": [
    "Уравнение имеет решение при $\\alpha_1 = 1, \\alpha_2 = 4, \\alpha_3 = 2, \\alpha_4 = -2$"
   ]
  },
  {
   "cell_type": "markdown",
   "metadata": {},
   "source": [
    "$1 \\cdot 2 + 4 \\cdot x + 2 \\cdot x^2 - 2x^2 - 4x - 2 = 0$"
   ]
  },
  {
   "cell_type": "markdown",
   "metadata": {},
   "source": [
    "$0 = 0$"
   ]
  },
  {
   "cell_type": "markdown",
   "metadata": {},
   "source": [
    "Ответ: вектора линейно зависимы."
   ]
  },
  {
   "cell_type": "markdown",
   "metadata": {},
   "source": [
    "# 3. Найти координаты вектора  $x=(2, 3, 5) \\in \\mathbb{R}^{3}$    \n",
    "# в базисе  b1 = (0, 0, 10) ,  b2 = (2, 0, 0) ,  b3 = (0, 1, 0) ."
   ]
  },
  {
   "cell_type": "markdown",
   "metadata": {},
   "source": [
    "x = (2, 3, 5) = (0, 0, 5) + (2, 0, 0) + (0, 3, 0) = 0.5(0, 0, 10) + 1(2, 0, 0) + 3(0, 1, 0) = $0.5e_1 + e_2 + 3e_3$"
   ]
  },
  {
   "cell_type": "markdown",
   "metadata": {},
   "source": [
    "Ответ: координатами вектора  x  в в базисе b1 = (0, 0, 10) , b2 = (2, 0, 0) , b3 = (0, 1, 0) являются  (0.5, 1, 3)."
   ]
  },
  {
   "cell_type": "markdown",
   "metadata": {},
   "source": [
    "# 4. Найти координаты вектора  $3 x^{2}-2 x+2 \\in \\mathbb{R}^{3}[x]$\n",
    "\n",
    "а) в базисе  1 ,  x ,  $x^2$ ;\n",
    "\n",
    "б) в базисе  $x^2$ ,  x−1 ,  1 ."
   ]
  },
  {
   "cell_type": "markdown",
   "metadata": {},
   "source": [
    "а) $x = (2, -2x, 3x^2) = 2(1, 0, 0) -2(0, x, 0) + 3(0, 0, x^2) = 2e_1 - 2e_2 + 3e_3$"
   ]
  },
  {
   "cell_type": "markdown",
   "metadata": {},
   "source": [
    "б) $x = (3x^2, -2x, 2) = 3(x^2, 0, 0) - \\cfrac{2x}{x - 1}(0, (x - 1), 0) + 2(0, 0, 1) = 3e_1 - \\cfrac{2x}{x - 1}e_2 + 2e_3$"
   ]
  },
  {
   "cell_type": "markdown",
   "metadata": {},
   "source": [
    "Ответ: а) (2, -2, 3); б) (3, $- \\cfrac{2x}{x - 1}$, 2)"
   ]
  },
  {
   "cell_type": "code",
   "execution_count": null,
   "metadata": {},
   "outputs": [],
   "source": []
  }
 ],
 "metadata": {
  "kernelspec": {
   "display_name": "Python 3",
   "language": "python",
   "name": "python3"
  },
  "language_info": {
   "codemirror_mode": {
    "name": "ipython",
    "version": 3
   },
   "file_extension": ".py",
   "mimetype": "text/x-python",
   "name": "python",
   "nbconvert_exporter": "python",
   "pygments_lexer": "ipython3",
   "version": "3.7.1"
  }
 },
 "nbformat": 4,
 "nbformat_minor": 2
}
