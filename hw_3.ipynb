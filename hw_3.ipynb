{
 "cells": [
  {
   "cell_type": "markdown",
   "metadata": {},
   "source": [
    "### 1. Найти собственные векторы и собственные значения для линейного оператора, заданного матрицей"
   ]
  },
  {
   "cell_type": "markdown",
   "metadata": {},
   "source": [
    "$A=\\left(\\begin{array}{cc}{-1} & {-6} \\\\ {2} & {6}\\end{array}\\right)$"
   ]
  },
  {
   "cell_type": "code",
   "execution_count": 1,
   "metadata": {},
   "outputs": [
    {
     "name": "stdout",
     "output_type": "stream",
     "text": [
      "Матрица A:\n",
      "[[-1 -6]\n",
      " [ 2  6]]\n",
      "Собственные значения:\n",
      "[2. 3.]\n",
      "Собственные векторы:\n",
      "[[-0.89  0.83]\n",
      " [ 0.45 -0.55]]\n"
     ]
    }
   ],
   "source": [
    "import numpy as np\n",
    "np.set_printoptions(precision=2, suppress=True)\n",
    "a = np.array([[-1, -6], [2, 6]])\n",
    "w, v = np.linalg.eig(a)\n",
    "print(f'Матрица A:\\n{a}')\n",
    "print(f'Собственные значения:\\n{w}')\n",
    "print(f'Собственные векторы:\\n{v}')"
   ]
  },
  {
   "cell_type": "markdown",
   "metadata": {},
   "source": [
    "### 2. Дан оператор поворота на 180 градусов, задаваемый матрицей\n",
    "\n"
   ]
  },
  {
   "cell_type": "markdown",
   "metadata": {},
   "source": [
    "$A=\\left(\\begin{array}{cc}{-1} & {0} \\\\ {0} & {-1}\\end{array}\\right)$"
   ]
  },
  {
   "cell_type": "markdown",
   "metadata": {},
   "source": [
    "Показать, что любой вектор является для него собственным."
   ]
  },
  {
   "cell_type": "markdown",
   "metadata": {},
   "source": [
    "Предположим, что вектор $x = (x_1, x_2)$ является собственным вектором заданного линейного оператора"
   ]
  },
  {
   "cell_type": "markdown",
   "metadata": {},
   "source": [
    "$\\left(\\begin{array}{cc}{-1} & {0} \\\\ {0} & {-1}\\end{array}\\right)\\left(\\begin{array}{l}{x_1} \\\\ {x_2}\\end{array}\\right)=\\lambda\\left(\\begin{array}{l}{x_1} \\\\ {x_2}\\end{array}\\right)$"
   ]
  },
  {
   "cell_type": "markdown",
   "metadata": {},
   "source": [
    "$\\left\\{\\begin{array}{l}{-x_1=x_1 \\cdot \\lambda} \\\\ {-x_2=x_2 \\cdot \\lambda}\\end{array} \\Rightarrow\\left\\{\\begin{array}{l}{\\lambda=-1} \\\\ {\\lambda=-1}\\end{array}\\right.\\right.$"
   ]
  },
  {
   "cell_type": "markdown",
   "metadata": {},
   "source": [
    "Таким образом, любой вектор является собственным вектором линейного оператора, заданного матрицей A, и его собственное значение составляет λ = -1."
   ]
  },
  {
   "cell_type": "markdown",
   "metadata": {},
   "source": [
    "### 3. Пусть линейный оператор задан матрицей"
   ]
  },
  {
   "cell_type": "markdown",
   "metadata": {},
   "source": [
    "$A=\\left(\\begin{array}{cc}{1} & {1} \\\\ {-1} & {3}\\end{array}\\right)$"
   ]
  },
  {
   "cell_type": "markdown",
   "metadata": {},
   "source": [
    "Установить, является ли вектор  x=(1,1)  собственным вектором этого линейного оператора."
   ]
  },
  {
   "cell_type": "markdown",
   "metadata": {},
   "source": [
    "Предположим, что вектор x является собственным вектором заданного линейного оператора"
   ]
  },
  {
   "cell_type": "markdown",
   "metadata": {},
   "source": [
    "$\\left(\\begin{array}{cc}{1} & {1} \\\\ {-1} & {3}\\end{array}\\right)\\left(\\begin{array}{c}{1} \\\\ {1}\\end{array}\\right)=\\lambda\\left(\\begin{array}{c}{1} \\\\ {1}\\end{array}\\right)$"
   ]
  },
  {
   "cell_type": "markdown",
   "metadata": {},
   "source": [
    "$\\left\\{\\begin{array}{l}{1+1=1 \\cdot \\lambda} \\\\ {-1+3=1 \\cdot \\lambda}\\end{array} \\Rightarrow\\left\\{\\begin{array}{l}{\\lambda=2} \\\\ {\\lambda=2}\\end{array}\\right.\\right.$"
   ]
  },
  {
   "cell_type": "markdown",
   "metadata": {},
   "source": [
    "Таким образом, вектор x=(1, 1) является собственным вектором линейного оператора, заданного матрицей A, и его собственное значение составляет λ = 2."
   ]
  },
  {
   "cell_type": "markdown",
   "metadata": {},
   "source": [
    "### 4. Пусть линейный оператор задан матрицей"
   ]
  },
  {
   "cell_type": "markdown",
   "metadata": {},
   "source": [
    "$A=\\left(\\begin{array}{lll}{0} & {3} & {0} \\\\ {3} & {0} & {0} \\\\ {0} & {0} & {3}\\end{array}\\right)$"
   ]
  },
  {
   "cell_type": "markdown",
   "metadata": {},
   "source": [
    "Установить, является ли вектор  x=(3,−3,−4)  собственным вектором этого линейного оператора."
   ]
  },
  {
   "cell_type": "markdown",
   "metadata": {},
   "source": [
    "Предположим, что вектор  x  является собственным вектором заданного линейного оператора"
   ]
  },
  {
   "cell_type": "markdown",
   "metadata": {},
   "source": [
    "$\\left(\\begin{array}{lll}{0} & {3} & {0} \\\\ {3} & {0} & {0} \\\\ {0} & {0} & {3}\\end{array}\\right)\\left(\\begin{array}{l}{3} \\\\ {-3} \\\\ {-4}\\end{array}\\right)=\\lambda\\left(\\begin{array}{l}{3} \\\\ {-3} \\\\ {-4}\\end{array}\\right)$"
   ]
  },
  {
   "cell_type": "markdown",
   "metadata": {},
   "source": [
    "$\\Rightarrow\\left\\{\\begin{array}{l}{3\\lambda=-9} \\\\ {-3\\lambda=9} \\\\ { -4\\lambda=-12}\\end{array}\\right. $"
   ]
  },
  {
   "cell_type": "markdown",
   "metadata": {},
   "source": [
    "Такая система не имеет смысла, следовательно, вектор  x=(3, -3, -4)  не является собственным вектором линейного оператора, заданного матрицей  A."
   ]
  }
 ],
 "metadata": {
  "kernelspec": {
   "display_name": "Python 3",
   "language": "python",
   "name": "python3"
  },
  "language_info": {
   "codemirror_mode": {
    "name": "ipython",
    "version": 3
   },
   "file_extension": ".py",
   "mimetype": "text/x-python",
   "name": "python",
   "nbconvert_exporter": "python",
   "pygments_lexer": "ipython3",
   "version": "3.7.1"
  }
 },
 "nbformat": 4,
 "nbformat_minor": 2
}
